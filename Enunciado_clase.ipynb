{
 "cells": [
  {
   "cell_type": "markdown",
   "id": "9e98d5ff-c745-43b4-a096-192b0b7ccbba",
   "metadata": {},
   "source": [
    "## Ejercicio Python \n",
    "\n",
    "1. Crear un notebook de jupyter llamado **Entrega Python**. Este debe tener una celda inicial en formato Markdown que contenga tu nombre. Antes de cada ejercicio crear una celda Markdown con su enunciado.\n",
    "2. Definir una función llamada _calcular\\_descuento_ que recibe el precio original de un producto y la edad del cliente como argumentos. La función debe calcular el precio con descuento según las siguientes reglas:\n",
    "\n",
    "    Si el cliente tiene menos de 18 años, el descuento es del 20%.\n",
    "\n",
    "    Si el cliente tiene entre 18 y 60 años (inclusive), no hay descuento.\n",
    "\n",
    "    Si el cliente tiene más de 60 años, el descuento es del 25%.\n",
    "\n",
    "\n",
    "3. Escribe una función llamada _max\\_3_ que recibe 3 números enteros y devuelve el mayor de los 3.\n",
    "4. Realizar un código que crea una lista llamada `resultado` que contiene todos los elementos de la lista `random_numbers = [17, 136, 15, 91, 130, 52, 67, 150, 63, 29, 7]` que són múltiplos de 3 y de 5. Finalmente la debe mostrar por pantalla.\n",
    "5.  Escribir una función llamada _elemento\\_comun_ que recibe dos listas por parámetro y devuelve True si tienen al menos un miembro común y False en caso contrario.\n",
    "6.  Da el valor de en el que la secuencia $2*3^n - 4*2.5n$ toma su valor mínimo. $n$ puede tomar los valores de 0 a 100.\n",
    "\n"
   ]
  },
  {
   "cell_type": "markdown",
   "id": "76ec6855",
   "metadata": {},
   "source": [
    "2. Definir una función llamada calcular_descuento que recibe el precio original de un producto y la edad del cliente como argumentos. La función debe calcular el precio con descuento según las siguientes reglas:"
   ]
  },
  {
   "cell_type": "code",
   "execution_count": 1,
   "id": "6f96fcc4",
   "metadata": {},
   "outputs": [
    {
     "data": {
      "text/plain": [
       "75.0"
      ]
     },
     "execution_count": 1,
     "metadata": {},
     "output_type": "execute_result"
    }
   ],
   "source": [
    "def calcular_descuento (precio, edad):\n",
    "    if(edad < 18):\n",
    "        precioDescuento = precio * 0.8\n",
    "    elif(edad > 60):\n",
    "        precioDescuento = precio * 0.75\n",
    "    else:\n",
    "        precioDescuento = precio\n",
    "    return precioDescuento\n",
    "\n",
    "calcular_descuento(100,61)"
   ]
  },
  {
   "cell_type": "markdown",
   "id": "842b722c",
   "metadata": {},
   "source": [
    "3. Escribe una función llamada _max\\_3_ que recibe 3 números enteros y devuelve el mayor de los 3."
   ]
  },
  {
   "cell_type": "code",
   "execution_count": 11,
   "id": "f2d48d00",
   "metadata": {},
   "outputs": [
    {
     "data": {
      "text/plain": [
       "9"
      ]
     },
     "execution_count": 11,
     "metadata": {},
     "output_type": "execute_result"
    }
   ],
   "source": [
    "def max_3 (a, b, c):\n",
    "\n",
    "    return max([a,b,c])\n",
    "\n",
    "max_3(9, -1, 6)"
   ]
  },
  {
   "cell_type": "markdown",
   "id": "1f6f1b71",
   "metadata": {},
   "source": [
    "4. Realizar un código que crea una lista llamada `resultado` que contiene todos los elementos de la lista `random_numbers = [17, 136, 15, 91, 130, 52, 67, 150, 63, 29, 7]` que són múltiplos de 3 y de 5. Finalmente la debe mostrar por pantalla."
   ]
  },
  {
   "cell_type": "code",
   "execution_count": 21,
   "id": "212970a1",
   "metadata": {},
   "outputs": [
    {
     "name": "stdout",
     "output_type": "stream",
     "text": [
      "[15, 150]\n"
     ]
    }
   ],
   "source": [
    "random_numbers = [17, 136, 15, 91, 130, 52, 67, 150, 63, 29, 7]\n",
    "resultado = []\n",
    "\n",
    "for i in random_numbers:\n",
    "    \n",
    "    if i % 3 == 0 and i % 5 == 0:\n",
    "        resultado.append(i)\n",
    "print(resultado)\n",
    "\n"
   ]
  },
  {
   "cell_type": "markdown",
   "id": "5536b9d5",
   "metadata": {},
   "source": [
    "5.  Escribir una función llamada _elemento\\_comun_ que recibe dos listas por parámetro y devuelve True si tienen al menos un miembro común y False en caso contrario."
   ]
  },
  {
   "cell_type": "code",
   "execution_count": 18,
   "id": "0d0fe280",
   "metadata": {},
   "outputs": [
    {
     "data": {
      "text/plain": [
       "False"
      ]
     },
     "execution_count": 18,
     "metadata": {},
     "output_type": "execute_result"
    }
   ],
   "source": [
    "def elemento_comun(l1,l2):\n",
    "    e_comunes = []\n",
    "    i = 0\n",
    "    for e in l1:\n",
    "        if e in l2:\n",
    "            e_comunes.append(e)\n",
    "\n",
    "    return len(e_comunes)!=0\n",
    "\n",
    "random_numbers = [17, 136, 15, 91, 130, 52, 67, 150, 63, 29, 7]\n",
    "random2 = [0,3,4]\n",
    "elemento_comun(random_numbers, random2)"
   ]
  },
  {
   "cell_type": "markdown",
   "id": "e00e97e0",
   "metadata": {},
   "source": [
    "6. Da el valor de en el que la secuencia $2*(3^n)-4*2.5n$ toma su valor mínimo.\n",
    "n puede tomar los valores de 0 a 100."
   ]
  },
  {
   "cell_type": "code",
   "execution_count": 9,
   "id": "8f4587b5",
   "metadata": {},
   "outputs": [
    {
     "name": "stdout",
     "output_type": "stream",
     "text": [
      "-4.0\n"
     ]
    }
   ],
   "source": [
    "i = 0\n",
    "ll = []\n",
    "for i in range(101):\n",
    "    e = (2)*(3**i)-(4)*(2.5*i)\n",
    "    ll.append(e)\n",
    "    i = i+1\n",
    "\n",
    "minimmo = min(ll)\n",
    "print(f\" El valor mínimo es: {minimmo}\")"
   ]
  }
 ],
 "metadata": {
  "kernelspec": {
   "display_name": "Python 3 (ipykernel)",
   "language": "python",
   "name": "python3"
  },
  "language_info": {
   "codemirror_mode": {
    "name": "ipython",
    "version": 3
   },
   "file_extension": ".py",
   "mimetype": "text/x-python",
   "name": "python",
   "nbconvert_exporter": "python",
   "pygments_lexer": "ipython3",
   "version": "3.11.5"
  }
 },
 "nbformat": 4,
 "nbformat_minor": 5
}
